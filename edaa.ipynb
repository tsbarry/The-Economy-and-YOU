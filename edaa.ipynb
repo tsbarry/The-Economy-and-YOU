{
 "cells": [
  {
   "cell_type": "code",
   "execution_count": 12,
   "metadata": {},
   "outputs": [
    {
     "ename": "NameError",
     "evalue": "name 'connection' is not defined",
     "output_type": "error",
     "traceback": [
      "\u001b[0;31m---------------------------------------------------------------------------\u001b[0m",
      "\u001b[0;31mNameError\u001b[0m                                 Traceback (most recent call last)",
      "Cell \u001b[0;32mIn[12], line 7\u001b[0m\n\u001b[1;32m      5\u001b[0m \u001b[38;5;28;01mfrom\u001b[39;00m \u001b[38;5;21;01mconfig\u001b[39;00m \u001b[38;5;28;01mimport\u001b[39;00m \u001b[38;5;241m*\u001b[39m \n\u001b[1;32m      6\u001b[0m \u001b[38;5;66;03m# connect to the database\u001b[39;00m\n\u001b[0;32m----> 7\u001b[0m aws\u001b[38;5;241m=\u001b[39m \u001b[43mconnection\u001b[49m\n\u001b[1;32m      8\u001b[0m engine \u001b[38;5;241m=\u001b[39m create_engine(aws)\n\u001b[1;32m      9\u001b[0m Base \u001b[38;5;241m=\u001b[39m automap_base()\n",
      "\u001b[0;31mNameError\u001b[0m: name 'connection' is not defined"
     ]
    }
   ],
   "source": [
    "from sqlalchemy import create_engine, func\n",
    "from sqlalchemy.ext.automap import automap_base\n",
    "from sqlalchemy.orm import Session\n",
    "import pandas as pd\n",
    "from config import * \n",
    "# connect to the database\n",
    "aws= config.connection\n",
    "engine = create_engine(aws)\n",
    "Base = automap_base()\n",
    "Base.prepare(engine, reflect=True)\n",
    "\n",
    "# save classes as variables, prepare classes\n",
    "job = Base.classes.job\n",
    "company = Base.classes.company\n",
    "state = Base.classes.state\n",
    "# query our database (pull data and save into objects)\n",
    "session = Session(engine)\n",
    "\n",
    "#Extract tables from Amazon RDS postgres database\n",
    "job_table = session.query(job)\n",
    "print(job_table) \n",
    "company_table = session.query(company) \n",
    "print(company_table) \n",
    "state_table = session.query(state)\n",
    "print(state_table) \n"
   ]
  }
 ],
 "metadata": {
  "kernelspec": {
   "display_name": "Python 3.10.7 64-bit",
   "language": "python",
   "name": "python3"
  },
  "language_info": {
   "codemirror_mode": {
    "name": "ipython",
    "version": 3
   },
   "file_extension": ".py",
   "mimetype": "text/x-python",
   "name": "python",
   "nbconvert_exporter": "python",
   "pygments_lexer": "ipython3",
   "version": "3.10.7"
  },
  "orig_nbformat": 4,
  "vscode": {
   "interpreter": {
    "hash": "aee8b7b246df8f9039afb4144a1f6fd8d2ca17a180786b69acc140d282b71a49"
   }
  }
 },
 "nbformat": 4,
 "nbformat_minor": 2
}
