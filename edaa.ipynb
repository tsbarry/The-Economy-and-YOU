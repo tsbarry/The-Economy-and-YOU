{
 "cells": [
  {
   "cell_type": "code",
   "execution_count": 2,
   "metadata": {},
   "outputs": [
    {
     "name": "stderr",
     "output_type": "stream",
     "text": [
      "/var/folders/x7/crx4vr4x15bb27ylnzvk1p_r0000gn/T/ipykernel_16281/3908446768.py:9: SADeprecationWarning: The AutomapBase.prepare.reflect parameter is deprecated and will be removed in a future release.  Reflection is enabled when AutomapBase.prepare.autoload_with is passed.\n",
      "  Base.prepare(engine, schema='economy', reflect=True)\n"
     ]
    },
    {
     "name": "stdout",
     "output_type": "stream",
     "text": [
      "SELECT economy.job.job_id AS economy_job_job_id, economy.job.avg_salary AS economy_job_avg_salary, economy.job.min_salary AS economy_job_min_salary, economy.job.max_salary AS economy_job_max_salary, economy.job.easy_apply AS economy_job_easy_apply, economy.job.company_id AS economy_job_company_id, economy.job.state_id AS economy_job_state_id \n",
      "FROM economy.job\n",
      "SELECT economy.company.company_id AS economy_company_company_id, economy.company.state_id AS economy_company_state_id, economy.company.company_name AS economy_company_company_name, economy.company.rating AS economy_company_rating, economy.company.size AS economy_company_size, economy.company.headquarter AS economy_company_headquarter, economy.company.founded AS economy_company_founded, economy.company.type_of_ownership AS economy_company_type_of_ownership, economy.company.industry AS economy_company_industry, economy.company.sector AS economy_company_sector, economy.company.revenue AS economy_company_revenue \n",
      "FROM economy.company\n",
      "SELECT economy.state.state_id AS economy_state_state_id, economy.state.city AS economy_state_city, economy.state.state AS economy_state_state \n",
      "FROM economy.state\n"
     ]
    }
   ],
   "source": [
    "from sqlalchemy import create_engine, func\n",
    "from sqlalchemy.ext.automap import automap_base\n",
    "from sqlalchemy.orm import Session\n",
    "import pandas as pd\n",
    "from config import connection\n",
    "# connect to the database\n",
    "engine = create_engine(connection)\n",
    "Base = automap_base()\n",
    "Base.prepare(engine, schema='economy', reflect=True)\n",
    "\n",
    "# save classes as variables, prepare classes\n",
    "job = Base.classes.job\n",
    "company = Base.classes.company\n",
    "state = Base.classes.state\n",
    "# query our database (pull data and save into objects)\n",
    "session = Session(engine) \n",
    "\n",
    "#Extract tables from Amazon RDS postgres database\n",
    "job_table = session.query(job)\n",
    "print(job_table) \n",
    "company_table = session.query(company) \n",
    "print(company_table) \n",
    "state_table = session.query(state)\n",
    "print(state_table) \n",
    "\n",
    "\n",
    "\n"
   ]
  }
 ],
 "metadata": {
  "kernelspec": {
   "display_name": "Python 3.10.7 64-bit",
   "language": "python",
   "name": "python3"
  },
  "language_info": {
   "codemirror_mode": {
    "name": "ipython",
    "version": 3
   },
   "file_extension": ".py",
   "mimetype": "text/x-python",
   "name": "python",
   "nbconvert_exporter": "python",
   "pygments_lexer": "ipython3",
   "version": "3.10.7"
  },
  "orig_nbformat": 4,
  "vscode": {
   "interpreter": {
    "hash": "aee8b7b246df8f9039afb4144a1f6fd8d2ca17a180786b69acc140d282b71a49"
   }
  }
 },
 "nbformat": 4,
 "nbformat_minor": 2
}
